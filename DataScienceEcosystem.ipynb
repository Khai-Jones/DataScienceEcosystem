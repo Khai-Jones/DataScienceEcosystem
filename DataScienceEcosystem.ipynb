{
 "cells": [
  {
   "cell_type": "markdown",
   "id": "30a96dc1",
   "metadata": {},
   "source": [
    "# Data Science Tools and Ecosystem"
   ]
  },
  {
   "cell_type": "markdown",
   "id": "08c84d85",
   "metadata": {},
   "source": [
    "In this notebook, Data Science Tools and Ecosystem are summarized."
   ]
  },
  {
   "cell_type": "markdown",
   "id": "98062afb",
   "metadata": {},
   "source": [
    "**Objectives :**\n",
    "- List popular languages for Data Science \n",
    "- List of popular data science libraries \n",
    "- Table of Data Science Tools\n",
    "- Examples of evaluating arithmetic expressions in Python"
   ]
  },
  {
   "cell_type": "markdown",
   "id": "5d7053b9",
   "metadata": {},
   "source": [
    "### List of Popular Data Scientists Languages"
   ]
  },
  {
   "cell_type": "markdown",
   "id": "0eece8ef",
   "metadata": {},
   "source": [
    "Some of the most popular languages that Data Scinetist use are:  \n",
    "1. Python\n",
    "2. Sql\n",
    "3. R"
   ]
  },
  {
   "cell_type": "markdown",
   "id": "43a55c03",
   "metadata": {},
   "source": [
    "### List of Data Science Libraries"
   ]
  },
  {
   "cell_type": "markdown",
   "id": "04947d12",
   "metadata": {},
   "source": [
    "Some of the commonly used libraries used by Data Scientists include:\n",
    "\n",
    "1. Python: Pandas, TensorFlow.\n",
    "2. R: caret, glmnet, tidyr, ggplot2.\n",
    "3. SQL: MySQL, PostgreSQL, Microsoft SQL Server."
   ]
  },
  {
   "cell_type": "markdown",
   "id": "e0e7d8e7",
   "metadata": {},
   "source": [
    "### Table Of Data Science Tools"
   ]
  },
  {
   "cell_type": "markdown",
   "id": "2deeb522",
   "metadata": {},
   "source": [
    "| Data Sciene |\n",
    "|:-----------:|\n",
    "|Apache Spark|\n",
    "|Jupyter Notebook|\n",
    "|Anaconda|"
   ]
  },
  {
   "cell_type": "markdown",
   "id": "f5f1057e",
   "metadata": {},
   "source": [
    "### Below are a few examples of evaluating arithmetic expressions in Python"
   ]
  },
  {
   "cell_type": "code",
   "execution_count": 6,
   "id": "a231fa7a",
   "metadata": {},
   "outputs": [
    {
     "data": {
      "text/plain": [
       "17"
      ]
     },
     "execution_count": 6,
     "metadata": {},
     "output_type": "execute_result"
    }
   ],
   "source": [
    "# This is a simple arithmetic expression to mutiply then add integers\n",
    "(3*4)+5"
   ]
  },
  {
   "cell_type": "code",
   "execution_count": 9,
   "id": "6d8d8840",
   "metadata": {},
   "outputs": [
    {
     "data": {
      "text/plain": [
       "3.33"
      ]
     },
     "execution_count": 9,
     "metadata": {},
     "output_type": "execute_result"
    }
   ],
   "source": [
    "# This will convert 200 mintues to hours by dividing by 60\n",
    "round(200/60, 2)"
   ]
  },
  {
   "cell_type": "markdown",
   "id": "b34b08d8",
   "metadata": {},
   "source": [
    "## Author\n",
    "-Khai Jones"
   ]
  }
 ],
 "metadata": {
  "kernelspec": {
   "display_name": "Python 3 (ipykernel)",
   "language": "python",
   "name": "python3"
  },
  "language_info": {
   "codemirror_mode": {
    "name": "ipython",
    "version": 3
   },
   "file_extension": ".py",
   "mimetype": "text/x-python",
   "name": "python",
   "nbconvert_exporter": "python",
   "pygments_lexer": "ipython3",
   "version": "3.11.5"
  }
 },
 "nbformat": 4,
 "nbformat_minor": 5
}
